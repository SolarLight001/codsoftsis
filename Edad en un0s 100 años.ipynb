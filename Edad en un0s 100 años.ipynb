{
 "cells": [
  {
   "cell_type": "code",
   "execution_count": 4,
   "id": "38055454-807c-4939-9e8b-213e2a8f7888",
   "metadata": {},
   "outputs": [
    {
     "name": "stdin",
     "output_type": "stream",
     "text": [
      "Escriba su edad actual:  15\n",
      "2125 15\n"
     ]
    },
    {
     "name": "stdout",
     "output_type": "stream",
     "text": [
      "En el año 2125 Tendrá unos: \n"
     ]
    }
   ],
   "source": [
    "edad = int(input(\"Escriba su edad actual: \"))\n",
    "año_actual = 2025\n",
    "año_nac = año_actual - edad\n",
    "rest_100 = 100 - edad\n",
    "out_año = año_actual + 100\n",
    "input(out_año)\n",
    "print(\"En el año\", out_año, \"Tendrá unos: \")"
   ]
  }
 ],
 "metadata": {
  "kernelspec": {
   "display_name": "Python [conda env:base] *",
   "language": "python",
   "name": "conda-base-py"
  },
  "language_info": {
   "codemirror_mode": {
    "name": "ipython",
    "version": 3
   },
   "file_extension": ".py",
   "mimetype": "text/x-python",
   "name": "python",
   "nbconvert_exporter": "python",
   "pygments_lexer": "ipython3",
   "version": "3.12.7"
  }
 },
 "nbformat": 4,
 "nbformat_minor": 5
}
