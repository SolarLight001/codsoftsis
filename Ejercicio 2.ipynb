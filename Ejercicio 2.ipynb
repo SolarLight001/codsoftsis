{
 "cells": [
  {
   "cell_type": "code",
   "execution_count": 8,
   "id": "cd35b3c8-2cde-480b-a5ea-c33c813a31e1",
   "metadata": {},
   "outputs": [
    {
     "name": "stdin",
     "output_type": "stream",
     "text": [
      "Ingresa tu nombre:  Anhgel Aldahir\n",
      "Ingresa tu edad:  15\n",
      "¿Qué quieres llegar a ser?:  Desarrollador de Videojuegos\n"
     ]
    },
    {
     "name": "stdout",
     "output_type": "stream",
     "text": [
      "Mi nombre es  Anhgel Aldahir y tengo  15 años de edad. Tambien, siempre he querido ser  Desarrollador de Videojuegos . ¡Gracias por leerme!\n"
     ]
    }
   ],
   "source": [
    "nombre = input('Ingresa tu nombre: ')\n",
    "edad = int(input('Ingresa tu edad: '))\n",
    "profesión = input('¿Qué quieres llegar a ser?: ') \n",
    "\n",
    "print(\"Mi nombre es \", nombre, \"y tengo \",edad, \"años de edad. Tambien, siempre he querido ser \", profesión, \". ¡Gracias por leerme!\")"
   ]
  }
 ],
 "metadata": {
  "kernelspec": {
   "display_name": "Python [conda env:base] *",
   "language": "python",
   "name": "conda-base-py"
  },
  "language_info": {
   "codemirror_mode": {
    "name": "ipython",
    "version": 3
   },
   "file_extension": ".py",
   "mimetype": "text/x-python",
   "name": "python",
   "nbconvert_exporter": "python",
   "pygments_lexer": "ipython3",
   "version": "3.12.7"
  }
 },
 "nbformat": 4,
 "nbformat_minor": 5
}
