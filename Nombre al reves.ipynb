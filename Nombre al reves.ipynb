{
 "cells": [
  {
   "cell_type": "code",
   "execution_count": 58,
   "id": "53d78206-398b-430d-8ad6-f15ff87eb0f2",
   "metadata": {},
   "outputs": [
    {
     "name": "stdin",
     "output_type": "stream",
     "text": [
      "Escribe tu nombre Angel Aldahir Zarza Cintora 3ro Ricardo Montewviviente\n"
     ]
    },
    {
     "name": "stdout",
     "output_type": "stream",
     "text": [
      "A reves sería:  etneivivwetnoM odraciR or3 arotniC azraZ rihadlA legnA\n"
     ]
    }
   ],
   "source": [
    "nombre = input(\"Escribe tu nombre\")\n",
    "print(\"A reves sería: \", nombre [::-1])"
   ]
  }
 ],
 "metadata": {
  "kernelspec": {
   "display_name": "Python [conda env:base] *",
   "language": "python",
   "name": "conda-base-py"
  },
  "language_info": {
   "codemirror_mode": {
    "name": "ipython",
    "version": 3
   },
   "file_extension": ".py",
   "mimetype": "text/x-python",
   "name": "python",
   "nbconvert_exporter": "python",
   "pygments_lexer": "ipython3",
   "version": "3.12.7"
  }
 },
 "nbformat": 4,
 "nbformat_minor": 5
}
