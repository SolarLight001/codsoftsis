{
 "cells": [
  {
   "cell_type": "code",
   "execution_count": null,
   "id": "1bef22ba-0976-4914-81af-5f119673ab83",
   "metadata": {},
   "outputs": [],
   "source": [
    "#Crear una tuple con 3 elementos: 10, \"Hola\" y 3.14\n",
    "tupla = (\"10, Hola, 3.14\")\n",
    "print(tupla)\n",
    "\n",
    "#-------------------------------------------------------------------------#\n",
    "#La tupla(1,2,3,4,5), accede y escribe el tercer element\n",
    "tupla = (1,2,3,4,5)\n",
    "element = 3 in (tupla)\n",
    "print(element)\n",
    "\n",
    "#-------------------------------------------------------------------------#\n",
    "#Concatena las tuplas y almacena el resultado en una tupla Nueva\n",
    "t1 = ('a', 'b', 'c')\n",
    "t2 = (3, 2, 1)\n",
    "tupla_final = t1+t2\n",
    "print(tupla_final)\n",
    "\n",
    "#-------------------------------------------------------------------------#\n",
    "#Desempaqueta la tupla en tres variables y escribe sus valores\n",
    "tupla = ('a','b','c')\n",
    "var1 = tupla[0]\n",
    "var2 = tupla[1]\n",
    "var3 = tupla[2]\n",
    "print(var1,var2,var3)\n",
    "\n",
    "#-------------------------------------------------------------------------#\n",
    "#verifica si el elemento 7 existe en la tupla (1,3,5,7,9)\n",
    "tupla = (1,3,5,7,9)\n",
    "existe = 7 in tupla\n",
    "print(existe)\n",
    "\n",
    "#-------------------------------------------------------------------------#\n",
    "#crea una tupla (0,1,2,3,4,5) y escribe los elementos del indice 2 a 4 con slice\n",
    "tupla = (0,1,2,3,4,5)\n",
    "print(tupla[2:4])\n",
    "\n",
    "#-------------------------------------------------------------------------#\n",
    "#encuentra la longitude de una tupla (10,20,30,40,50)\n",
    "tupla =  (10,20,30,40,50)\n",
    "legth = len(tupla)\n",
    "print(length)\n",
    "\n",
    "#-------------------------------------------------------------------------#\n",
    "#crea una tupla y repitela 3 veces\n",
    "tupla = (1, 2, 3)\n",
    "resultado = tupla*3\n",
    "print(resultado)\n",
    "\n",
    "#-------------------------------------------------------------------------#\n",
    "#convierte la lista[1,2,3] a tupla\n",
    "lista = [1, 2, 1, 3]\n",
    "tupla = lista\n",
    "print(tupla)\n",
    "\n",
    "#-------------------------------------------------------------------------#\n",
    "#Encuentra los valores minimo y maximo de la tupla(5,12,3,8,15)\n",
    "tupla = (5,12,3,8,15)\n",
    "valor_minimo = min(tupla)\n",
    "valor_maximo = max(tupla)\n",
    "print('Minimo: ',valor_minimo,' Maximo: ', valor_maximo) "
   ]
  },
  {
   "cell_type": "code",
   "execution_count": 116,
   "id": "2dbcd3c4-2a3d-413d-82c7-5d3252499efe",
   "metadata": {},
   "outputs": [
    {
     "name": "stdout",
     "output_type": "stream",
     "text": [
      "Minimo:  3  Maximo:  15\n"
     ]
    }
   ],
   "source": [
    "tupla = (5,12,3,8,15)\n",
    "valor_minimo = min(tupla)\n",
    "valor_maximo = max(tupla)\n",
    "print('Minimo: ',valor_minimo,' Maximo: ', valor_maximo) "
   ]
  }
 ],
 "metadata": {
  "kernelspec": {
   "display_name": "Python [conda env:base] *",
   "language": "python",
   "name": "conda-base-py"
  },
  "language_info": {
   "codemirror_mode": {
    "name": "ipython",
    "version": 3
   },
   "file_extension": ".py",
   "mimetype": "text/x-python",
   "name": "python",
   "nbconvert_exporter": "python",
   "pygments_lexer": "ipython3",
   "version": "3.12.7"
  }
 },
 "nbformat": 4,
 "nbformat_minor": 5
}
